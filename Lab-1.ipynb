{
 "cells": [
  {
   "cell_type": "markdown",
   "id": "a9f69ed7",
   "metadata": {},
   "source": [
    "Problem 2:\n",
    "Describe, in words, whether a virtual machine, a container, a virtual environment, or the global environment of a single computer is best suited for each of the following situations. Be clear about why the option you choose works best, and also about why the other options are insufficient or are overkill.\n",
    "\n",
    "a. "
   ]
  },
  {
   "cell_type": "code",
   "execution_count": null,
   "id": "6d397608",
   "metadata": {},
   "outputs": [],
   "source": []
  },
  {
   "cell_type": "markdown",
   "id": "9a359f77",
   "metadata": {},
   "source": [
    "Problem 3:\n",
    "\n",
    "Problem 3a.\n",
    "\n",
    "Created a conda environemnet with Python 3.12 and installed the following packages:\n",
    "- conda create -n lab1 python=3.12\n",
    "- conda activate lab1\n",
    "- conda install neo4j\n",
    "- conda install python-dotenv\n",
    "- conda install pandas\n",
    "- conda install numpy #was already installed\n",
    "- conda install scipy\n",
    "- conda install scikit-learn\n",
    "- conda install requests\n",
    "- conda install prince\n",
    "- conda install ipykernel\n",
    "- conda install conda-forge::wquantiles \n",
    "- pip install ydata_profiling"
   ]
  },
  {
   "cell_type": "code",
   "execution_count": 1,
   "id": "d6143595",
   "metadata": {},
   "outputs": [
    {
     "name": "stderr",
     "output_type": "stream",
     "text": [
      "/opt/miniconda3/envs/lab1/lib/python3.12/site-packages/tqdm/auto.py:21: TqdmWarning: IProgress not found. Please update jupyter and ipywidgets. See https://ipywidgets.readthedocs.io/en/stable/user_install.html\n",
      "  from .autonotebook import tqdm as notebook_tqdm\n"
     ]
    },
    {
     "data": {
      "text/html": [
       "\n",
       "            <div>\n",
       "                <ins><a href=\"https://ydata.ai/register\">Upgrade to ydata-sdk</a></ins>\n",
       "                <p>\n",
       "                    Improve your data and profiling with ydata-sdk, featuring data quality scoring, redundancy detection, outlier identification, text validation, and synthetic data generation.\n",
       "                </p>\n",
       "            </div>\n",
       "            "
      ],
      "text/plain": [
       "<IPython.core.display.HTML object>"
      ]
     },
     "metadata": {},
     "output_type": "display_data"
    }
   ],
   "source": [
    "import numpy as np\n",
    "import pandas as pd\n",
    "import weighted # this is a module of wquantiles\n",
    "from scipy import stats\n",
    "import prince\n",
    "from ydata_profiling import ProfileReport"
   ]
  }
 ],
 "metadata": {
  "kernelspec": {
   "display_name": "lab1",
   "language": "python",
   "name": "python3"
  },
  "language_info": {
   "codemirror_mode": {
    "name": "ipython",
    "version": 3
   },
   "file_extension": ".py",
   "mimetype": "text/x-python",
   "name": "python",
   "nbconvert_exporter": "python",
   "pygments_lexer": "ipython3",
   "version": "3.12.11"
  }
 },
 "nbformat": 4,
 "nbformat_minor": 5
}
