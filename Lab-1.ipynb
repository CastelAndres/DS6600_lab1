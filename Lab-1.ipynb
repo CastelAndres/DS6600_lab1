{
 "cells": [
  {
   "cell_type": "markdown",
   "id": "a9f69ed7",
   "metadata": {},
   "source": [
    "Problem 2:\n",
    "Describe, in words, whether a virtual machine, a container, a virtual environment, or the global environment of a single computer is best suited for each of the following situations. Be clear about why the option you choose works best, and also about why the other options are insufficient or are overkill.\n",
    "\n",
    "  a. For the scenario of Meals on Wheels a Container is the best option. I recall that a great beenfit of using containers is that it will let you \"package\" the web portal and mobile app so that it runs identical for ANY chaapter, regardless of hardware. This also allows the current data base to be connected to each new container for each new chapter created, which containers are also easily scalable. \n",
    "  A virtual machine wont be the best option as it provides isolation, which means that duplicating full OS images for EVERY new chapter will come with a price and will be ressource intensive.\n",
    "  A virtual environment will only isolate Python paackages, which is not sufficient to manage their apps,databases, and website.\n",
    "  Lastly, the global environment would basically be stuck sharing one system. This would be a nightmare to manage as it would be hard to sepearate volunteer and client data securely, and scaling would be really hard.\n",
    "\n",
    "  b. In this scenario the Legal Aid Justice Center would be better off using a virtual environment as they're dealing with a data cleaning task. A Python virtual environment such as pandas, will pretty much allow you to clean the data. This virtual environment also allows for isolation of the project dependencies. Another great perk as to why its a great option is that once you have cleaned the data, you can easilt export what you need and wont have to worry about hosting/deployment. \n",
    "  A container in this situation is possible but overkill, since the task requires just a one-time report you wont have to worry about reproducible service/app.\n",
    "  A virtual machine would just be a waste of time and resources to run a whole extra OS to process just this single task.\n",
    "  A Global environment would work as well, but the issue become when your system Python environment gets cluttered with various analysis libraries. The virtual environment keeps things cleaner/easier to reproduce if you need to do so later.\n",
    "\n",
    "  c. For this task it appears that a container would be best suited. Since we need Ubuntu system packages the container would let us build an image that installs the necessary packages and our Python environment as well. This mkaes it so we are forcing others to run full Ubtunty VM's or change their OS. This also allows for distribution options and allows us to have controlled dependencies.\n",
    "  A virtual machine could run Ubunty, but it is slower to start and makes it harder to distriute when compared to containers.\n",
    "  A virtual environment is only able to manage Python libraries and cant handle the Ubuntu system depensdencies the packages require.\n",
    "  Lastly, the glovala environment wouldnt work if someone isnt on Ubunuty, this will lead to conflicts in installing the necessary packages.\n",
    "  \n",
    "  d. A virtual environment seems best suitable for this scenario since the virtual environment will lock our project to Python 3 and its packages. This means that even if Python 4 is installed globally, our current project will still be able to run with Python 3 environment. This allows us to keep projects seperate, so we can have on project using Python 3 and another using Python 4.\n",
    "  A container does work, but it overkill if the only goal is to preserve a single Python version.\n",
    "  A virtual machine is just using too much resources and overkill to spin up a whole other OS just to preserve a Python version.\n",
    "  Lastly a global environemnt wont work since if you decide to upgrade to Python 4, the projects with Python 3 will break.\n",
    "\n"
   ]
  },
  {
   "cell_type": "code",
   "execution_count": null,
   "id": "1fdf119d",
   "metadata": {},
   "outputs": [],
   "source": []
  },
  {
   "cell_type": "code",
   "execution_count": null,
   "id": "6d397608",
   "metadata": {},
   "outputs": [],
   "source": []
  },
  {
   "cell_type": "markdown",
   "id": "9a359f77",
   "metadata": {},
   "source": [
    "Problem 3:\n",
    "\n",
    "Problem 3a.\n",
    "\n",
    "Created a conda environemnet with Python 3.12 and installed the following packages:\n",
    "- conda create -n lab1 python=3.12\n",
    "- conda activate lab1\n",
    "- conda install neo4j\n",
    "- conda install python-dotenv\n",
    "- conda install pandas\n",
    "- conda install numpy #was already installed\n",
    "- conda install scipy\n",
    "- conda install scikit-learn\n",
    "- conda install requests\n",
    "- conda install prince\n",
    "- conda install ipykernel\n",
    "- conda install conda-forge::wquantiles \n",
    "- pip install ydata_profiling"
   ]
  },
  {
   "cell_type": "code",
   "execution_count": 1,
   "id": "d6143595",
   "metadata": {},
   "outputs": [
    {
     "name": "stderr",
     "output_type": "stream",
     "text": [
      "/opt/miniconda3/envs/lab1/lib/python3.12/site-packages/tqdm/auto.py:21: TqdmWarning: IProgress not found. Please update jupyter and ipywidgets. See https://ipywidgets.readthedocs.io/en/stable/user_install.html\n",
      "  from .autonotebook import tqdm as notebook_tqdm\n"
     ]
    },
    {
     "data": {
      "text/html": [
       "\n",
       "            <div>\n",
       "                <ins><a href=\"https://ydata.ai/register\">Upgrade to ydata-sdk</a></ins>\n",
       "                <p>\n",
       "                    Improve your data and profiling with ydata-sdk, featuring data quality scoring, redundancy detection, outlier identification, text validation, and synthetic data generation.\n",
       "                </p>\n",
       "            </div>\n",
       "            "
      ],
      "text/plain": [
       "<IPython.core.display.HTML object>"
      ]
     },
     "metadata": {},
     "output_type": "display_data"
    }
   ],
   "source": [
    "import numpy as np\n",
    "import pandas as pd\n",
    "import weighted # this is a module of wquantiles\n",
    "from scipy import stats\n",
    "import prince\n",
    "from ydata_profiling import ProfileReport"
   ]
  }
 ],
 "metadata": {
  "kernelspec": {
   "display_name": "lab1",
   "language": "python",
   "name": "python3"
  },
  "language_info": {
   "codemirror_mode": {
    "name": "ipython",
    "version": 3
   },
   "file_extension": ".py",
   "mimetype": "text/x-python",
   "name": "python",
   "nbconvert_exporter": "python",
   "pygments_lexer": "ipython3",
   "version": "3.12.11"
  }
 },
 "nbformat": 4,
 "nbformat_minor": 5
}
