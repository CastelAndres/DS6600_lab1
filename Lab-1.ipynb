{
 "cells": [
  {
   "cell_type": "markdown",
   "id": "a9f69ed7",
   "metadata": {},
   "source": [
    "Problem 2:\n",
    "Describe, in words, whether a virtual machine, a container, a virtual environment, or the global environment of a single computer is best suited for each of the following situations. Be clear about why the option you choose works best, and also about why the other options are insufficient or are overkill.\n",
    "\n",
    "a. "
   ]
  },
  {
   "cell_type": "markdown",
   "id": "9a359f77",
   "metadata": {},
   "source": [
    "Problem 3:\n",
    "\n",
    "Problem 3a.\n",
    "conda create -n lab1 python=3.12\n",
    "conda activate lab1\n",
    "conda install neo4j\n",
    "conda install python-dotenv\n",
    "conda install pandas\n",
    "conda install numpy #was already installed\n",
    "conda install scipy\n",
    "conda install scikit-learn\n",
    "conda install requests\n",
    "conda install prince\n",
    "conda install ipykernel\n",
    "conda install conda-forge::wquantiles \n",
    "pip install ydata_profiling"
   ]
  },
  {
   "cell_type": "markdown",
   "id": "2b77241e",
   "metadata": {},
   "source": []
  }
 ],
 "metadata": {
  "language_info": {
   "name": "python"
  }
 },
 "nbformat": 4,
 "nbformat_minor": 5
}
